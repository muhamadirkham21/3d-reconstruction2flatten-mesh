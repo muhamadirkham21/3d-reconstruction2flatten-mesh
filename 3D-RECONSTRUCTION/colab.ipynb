{
  "nbformat": 4,
  "nbformat_minor": 0,
  "metadata": {
    "colab": {
      "provenance": []
    },
    "kernelspec": {
      "name": "python3",
      "display_name": "Python 3"
    },
    "language_info": {
      "name": "python"
    }
  },
  "cells": [
    {
      "cell_type": "code",
      "execution_count": 1,
      "metadata": {
        "colab": {
          "base_uri": "https://localhost:8080/"
        },
        "id": "d9mjrsUbweiM",
        "outputId": "cdda1322-f01b-4e1b-c190-cd9153587fdd"
      },
      "outputs": [
        {
          "output_type": "stream",
          "name": "stdout",
          "text": [
            "Mounted at /content/drive\n"
          ]
        }
      ],
      "source": [
        "from google.colab import drive\n",
        "drive.mount('/content/drive')"
      ]
    },
    {
      "cell_type": "code",
      "source": [
        "! git clone https://github.com/muhamadirkham21/3d-reconstruction2flatten-mesh.git"
      ],
      "metadata": {
        "colab": {
          "base_uri": "https://localhost:8080/"
        },
        "id": "_K7UG1v8wp72",
        "outputId": "bb2b361f-87fa-4f1d-d881-cbb6a2f24989"
      },
      "execution_count": 2,
      "outputs": [
        {
          "output_type": "stream",
          "name": "stdout",
          "text": [
            "Cloning into '3d-reconstruction2flatten-mesh'...\n",
            "remote: Enumerating objects: 219, done.\u001b[K\n",
            "remote: Counting objects: 100% (6/6), done.\u001b[K\n",
            "remote: Compressing objects: 100% (3/3), done.\u001b[K\n",
            "remote: Total 219 (delta 0), reused 6 (delta 0), pack-reused 213\u001b[K\n",
            "Receiving objects: 100% (219/219), 140.86 MiB | 34.04 MiB/s, done.\n"
          ]
        }
      ]
    },
    {
      "cell_type": "code",
      "source": [
        "cd  /content/3d-reconstruction2flatten-mesh/3D-RECONSTRUCTION"
      ],
      "metadata": {
        "colab": {
          "base_uri": "https://localhost:8080/"
        },
        "id": "h7OG_4xhw2Oc",
        "outputId": "8186dfea-7334-4d7a-e93f-e244ca82c8b7"
      },
      "execution_count": 3,
      "outputs": [
        {
          "output_type": "stream",
          "name": "stdout",
          "text": [
            "/content/3d-reconstruction2flatten-mesh/3D-RECONSTRUCTION\n"
          ]
        }
      ]
    },
    {
      "cell_type": "markdown",
      "source": [
        "## I/O Directory\n",
        "\n",
        "--input_folder : Directory directory containing .jpg/.jpeg/png data\n",
        "\n",
        " --output_folder : The directory that will contain the .obj output"
      ],
      "metadata": {
        "id": "uxBslEIcxjUY"
      }
    },
    {
      "cell_type": "code",
      "source": [
        "! python 3d_reconstruction.py --input_folder \"/path/to/input\" --output_folder \"/path/to/output\""
      ],
      "metadata": {
        "id": "qj6wqueLw_2D"
      },
      "execution_count": 6,
      "outputs": []
    }
  ]
}